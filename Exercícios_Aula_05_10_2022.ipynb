{
  "nbformat": 4,
  "nbformat_minor": 0,
  "metadata": {
    "colab": {
      "provenance": [],
      "authorship_tag": "ABX9TyMIMq7oXbh6aJQQ7XQZgNvB",
      "include_colab_link": true
    },
    "kernelspec": {
      "name": "python3",
      "display_name": "Python 3"
    },
    "language_info": {
      "name": "python"
    }
  },
  "cells": [
    {
      "cell_type": "markdown",
      "metadata": {
        "id": "view-in-github",
        "colab_type": "text"
      },
      "source": [
        "<a href=\"https://colab.research.google.com/github/HenriqueMFogarin/Simulacao_Bioprocessos/blob/main/Exerc%C3%ADcios_Aula_05_10_2022.ipynb\" target=\"_parent\"><img src=\"https://colab.research.google.com/assets/colab-badge.svg\" alt=\"Open In Colab\"/></a>"
      ]
    },
    {
      "cell_type": "markdown",
      "source": [
        "# **Reator Batelada com Aumento Celular**"
      ],
      "metadata": {
        "id": "7X2445r7REOi"
      }
    },
    {
      "cell_type": "markdown",
      "source": [
        "# **Balanço de Massa -> Reator Batelada**"
      ],
      "metadata": {
        "id": "kfYZlSD1WODD"
      }
    },
    {
      "cell_type": "markdown",
      "source": [
        "Acúmulo = Entrada - Saída + Gerado - Consumido\n",
        "\n",
        "\n",
        "No caso do Balanço Celular em um reator batelada temos:\n",
        "\n",
        "1) Entrada = 0;\n",
        "\n",
        "2) Saída = 0;\n",
        "\n",
        "3) Consumido = 0; (não temos consumo de célula neste caso)\n",
        "\n",
        "Desta maneira o Balanço Celular Simplificado fica:\n",
        "\n",
        "> Acúmulo $=$ Geração    $\\therefore$\n",
        "\n",
        "> $\\frac{\\mathrm{dm_{x}} }{\\mathrm{d} t} = R_{x} = r_{x}V$⠀⠀⠀⠀⠀⠀⠀⠀⠀⠀⠀⠀⠀⠀⠀⠀⠀ Eq. (1)\n",
        "\n",
        "Onde:\n",
        "\n",
        "$\\frac{\\mathrm{dm_{x}} }{\\mathrm{d} t}$ = Variação mássica celular no tempo\n",
        "\n",
        "$R_{x}$ = Geração mássica celular"
      ],
      "metadata": {
        "id": "Dr0_ekSgWlIZ"
      }
    },
    {
      "cell_type": "markdown",
      "source": [
        "A Variação mássica celular pode ser escrita em função da Concentração celular:\n",
        "\n",
        "\n",
        "$\\frac{\\mathrm{dm_{x}} }{\\mathrm{d} t}=\\frac{\\mathrm{dC_{x}V} }{\\mathrm{d} t}$       ⠀⠀⠀⠀⠀Eq. (2)\n",
        "\n",
        "Como o Volume é considerado **CONSTANTE** podemos reescrever a Eq. (1) de tal forma que:\n",
        "\n",
        "$V\\frac{\\mathrm{dC_{x}} }{\\mathrm{d} t}=r_{x}V$       ⠀⠀⠀⠀⠀Eq. (3)\n",
        "\n",
        "e assim podemos simplificar a Eq. (3):\n",
        "\n",
        "$\\frac{\\mathrm{dC_{x}} }{\\mathrm{d} t}=r_{x}$       ⠀⠀⠀⠀⠀Eq. (4)"
      ],
      "metadata": {
        "id": "0Dm-MHBtcZg5"
      }
    },
    {
      "cell_type": "markdown",
      "source": [
        "# **Taxa de crescimento de microorganismos (Equação de Monod)**"
      ],
      "metadata": {
        "id": "oZPFawZBfmgR"
      }
    },
    {
      "cell_type": "markdown",
      "source": [
        "A Equação de Monod descreve o crescimento de bactérias em função da concentração de um único substrato limitante.\n",
        "\n",
        "Equação descrita por Monod:\n",
        "\n",
        "$\\mu = \\frac{\\mu_{max}C_{s} }{K_{s}+C_{s}}$ ⠀⠀⠀⠀⠀⠀⠀⠀⠀⠀⠀⠀⠀⠀⠀⠀⠀⠀⠀⠀⠀⠀⠀⠀⠀⠀⠀⠀⠀⠀⠀Eq. (5)\n",
        "\n",
        "Onde:\n",
        "\n",
        "$\\mu$ [$h^{-1}$] é a velocidade específica de crescimento;\n",
        "\n",
        "$\\mu$max [$h^{-1}$ é a velocidade máxima de crescimento (parâmetro cinético);\n",
        "\n",
        "Ks é a constante de Monod;\n",
        "\n",
        "Cs é a concentração de Substrato.\n",
        "\n",
        "\n",
        "Desta maneira podemos reescrever a Eq.(4) em função do Crescimento de Microorganismos descrita por Monod (Eq. (5)):\n",
        "\n",
        "\n",
        "$\\frac{\\mathrm{dC_{x}} }{\\mathrm{d} t} = \\frac{\\mu_{max}C_{s} }{K_{s}+C_{s}}C_{x}$ ⠀⠀⠀⠀⠀⠀⠀⠀⠀⠀⠀⠀⠀⠀⠀⠀⠀⠀⠀⠀⠀⠀⠀⠀⠀⠀⠀Eq. (6)\n"
      ],
      "metadata": {
        "id": "nBr_hq6AfxZY"
      }
    },
    {
      "cell_type": "markdown",
      "source": [
        "# **Balanço de Massa para o Substrato**"
      ],
      "metadata": {
        "id": "agv9gge9jHcw"
      }
    },
    {
      "cell_type": "markdown",
      "source": [
        "Acúmulo = Entrada - Saída + Gerado - Consumido\n",
        "\n",
        "No caso do Balanço para o Substrato em um reator batelada temos:\n",
        "\n",
        "1) Entrada = 0;\n",
        "\n",
        "2) Saída = 0;\n",
        "\n",
        "3) Geração = 0; (não temos geração de substrato neste caso)\n",
        "\n",
        "Desta maneira o Balanço para o Substrato Simplificado fica:\n",
        "\n",
        "> Acúmulo $=$ $-$Consumo $\\therefore$\n",
        "\n",
        "\n",
        "> $\\frac{\\mathrm{dm_{s}} }{\\mathrm{d} t} = -R_{s} = -r_{s}V$ ⠀⠀⠀⠀⠀⠀⠀⠀⠀⠀⠀⠀⠀⠀⠀⠀⠀ Eq. (7)\n",
        "\n",
        "Onde: \n",
        "\n",
        "$\\frac{\\mathrm{dm_{s}} }{\\mathrm{d} t}$ = Variação mássica de substrato\n",
        "\n",
        "$R_{s}$ = Consumo de substrato"
      ],
      "metadata": {
        "id": "e_XguuoUjcA3"
      }
    },
    {
      "cell_type": "markdown",
      "source": [
        "De maneira análogo ao procedimento do Balanço de Massa Celular, agora faremos para o Substrato.\n",
        "\n",
        "A Variação mássica do substrato pode ser escrita em função da Concentração do substrato:\n",
        "\n",
        "\n",
        "$\\frac{\\mathrm{dm_{s}} }{\\mathrm{d} t}=\\frac{\\mathrm{dC_{s}V} }{\\mathrm{d} t}$       ⠀⠀⠀⠀⠀Eq. (8)\n",
        "\n",
        "Como o Volume é considerado **CONSTANTE** podemos reescrever a Eq. (7) de tal forma que:\n",
        "\n",
        "$V\\frac{\\mathrm{dC_{s}} }{\\mathrm{d} t}=-r_{s}V$       ⠀⠀⠀⠀⠀Eq. (9)\n",
        "\n",
        "e assim podemos simplificar a Eq. (9):\n",
        "\n",
        "$\\frac{\\mathrm{dC_{s}} }{\\mathrm{d} t}=-r_{s}$       ⠀⠀⠀⠀⠀Eq. (10)\n"
      ],
      "metadata": {
        "id": "Kl0Eno5vlP-A"
      }
    },
    {
      "cell_type": "markdown",
      "source": [
        "O **Rendimento de Crescimento Celular** ($Y_{\\frac{x}{s}}$), representa a quantidade de célula produzida pela quantidade de substrato consumido.\n",
        "\n",
        "\n",
        "Com ele conseguimos relacionar a contração celular com a concetração de substrato, o **Rendimento de Crescimento Celular** é representado pela equação:\n",
        "\n",
        "\n",
        "$Y_{\\frac{x}{s}} = \\frac{r_{x}}{r_{s}}$ ⠀⠀⠀⠀⠀⠀⠀⠀⠀⠀⠀⠀⠀⠀⠀⠀⠀⠀⠀Eq. (11)\n",
        "\n",
        "Substituindo a Eq. (11) na Eq. (10) temos:\n",
        "\n",
        "$\\frac{\\mathrm{dC_{s}} }{\\mathrm{d} t} =-\\frac{r_{x}}{Y_{\\frac{x}{s}}}\\$       ⠀⠀⠀⠀⠀Eq. (13)\n",
        "\n",
        "\n",
        "Onde:\n",
        "\n",
        "${r_{x}} = \\frac{\\mu_{max}C_{s} }{K_{s}+C_{s}}C_{x}$  ⠀Eq. (14)"
      ],
      "metadata": {
        "id": "aMS6tczoqEIn"
      }
    },
    {
      "cell_type": "markdown",
      "source": [
        "Desta maneira podemos reescrever a Eq.(13) em função do Consumo de Substrato descrita por Monod (Eq. (14)):\n",
        "\n",
        "$\\frac{\\mathrm{dC_{s}} }{\\mathrm{d} t} =-\\frac{\\mu_{max}C_{s} }{K_{s}+C_{s}}\\frac{C_{x}}{Y_{\\frac{x}{s}}}$  ⠀Eq. (15)\n",
        "\n"
      ],
      "metadata": {
        "id": "QDhGRVFAqoxG"
      }
    },
    {
      "cell_type": "markdown",
      "source": [
        "# **Simulação da Concentração Celuar e de Substrato de acordo com Monod:**"
      ],
      "metadata": {
        "id": "NxM1MyhMtk9p"
      }
    },
    {
      "cell_type": "markdown",
      "source": [
        "Importando as bibliotecas:"
      ],
      "metadata": {
        "id": "PvdUCC8mt1hg"
      }
    },
    {
      "cell_type": "code",
      "execution_count": null,
      "metadata": {
        "id": "LGVUiApbOOxF"
      },
      "outputs": [],
      "source": [
        "# importando os pacotes do python\n",
        "import numpy as np\n",
        "import pandas as pd\n",
        "import matplotlib.pyplot as plt\n",
        "import sympy as sp\n",
        "from scipy.integrate import odeint\n",
        "from numpy import arange"
      ]
    },
    {
      "cell_type": "markdown",
      "source": [
        "Dados Iniciais da Simulação"
      ],
      "metadata": {
        "id": "w7Qe9GsQuGsm"
      }
    },
    {
      "cell_type": "code",
      "source": [
        "# Dados Iniciais:\n",
        "Cx0 = 1\n",
        "Cs0 = 100\n",
        "C0 = [Cx0,Cs0]\n",
        "t = np.arange(0,24,0.1)\n",
        "Yxs = 0.3\n",
        "mi_max = 0.2\n",
        "Ks = 3\n"
      ],
      "metadata": {
        "id": "zi5OUVFquFVF"
      },
      "execution_count": null,
      "outputs": []
    },
    {
      "cell_type": "markdown",
      "source": [
        "Definindo as Integrais e Resolução:"
      ],
      "metadata": {
        "id": "QSthNTi_uUAL"
      }
    },
    {
      "cell_type": "code",
      "source": [
        "# Definindo as integrais:\n",
        "def crescimento (C, t):\n",
        "  Cx , Cs = C\n",
        "  mi = (mi_max*Cs)/(Ks+Cs)\n",
        "  dCxdt = (mi*Cx)\n",
        "  dCsdt = -(1/Yxs)*mi*Cx\n",
        "  return dCxdt, dCsdt\n",
        "\n",
        "C = odeint(crescimento,C0,t)\n",
        "\n",
        "#Plotar os Gráficos:\n",
        "plt.plot(t,C, label = 'C(t)')\n",
        "plt.xlabel('tempo')\n",
        "plt.ylabel('Concentração')\n",
        "plt.legend()\n",
        "plt.show()\n"
      ],
      "metadata": {
        "colab": {
          "base_uri": "https://localhost:8080/",
          "height": 279
        },
        "id": "r04SDYL5uS6t",
        "outputId": "04fc7582-6193-4046-b140-2629821c7ee8"
      },
      "execution_count": null,
      "outputs": [
        {
          "output_type": "display_data",
          "data": {
            "text/plain": [
              "<Figure size 432x288 with 1 Axes>"
            ],
            "image/png": "[encoded data removed]"
          },
          "metadata": {
            "needs_background": "light"
          }
        }
      ]
    }
  ]
}